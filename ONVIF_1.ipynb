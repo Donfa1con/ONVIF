{
 "cells": [
  {
   "cell_type": "code",
   "execution_count": 23,
   "metadata": {
    "ExecuteTime": {
     "end_time": "2019-03-01T03:43:52.039238Z",
     "start_time": "2019-03-01T03:43:52.032845Z"
    }
   },
   "outputs": [
    {
     "data": {
      "text/html": [
       "<style>.container { width:100% !important; }</style>"
      ],
      "text/plain": [
       "<IPython.core.display.HTML object>"
      ]
     },
     "metadata": {},
     "output_type": "display_data"
    }
   ],
   "source": [
    "from IPython.core.display import display, HTML\n",
    "display(HTML(\"<style>.container { width:100% !important; }</style>\"))"
   ]
  },
  {
   "cell_type": "code",
   "execution_count": 1,
   "metadata": {
    "ExecuteTime": {
     "end_time": "2019-03-01T03:44:38.532966Z",
     "start_time": "2019-03-01T03:44:38.351894Z"
    }
   },
   "outputs": [],
   "source": [
    "from onvif import ONVIFCamera\n",
    "from pynput import keyboard"
   ]
  },
  {
   "cell_type": "code",
   "execution_count": 2,
   "metadata": {
    "ExecuteTime": {
     "end_time": "2019-03-01T03:44:41.295792Z",
     "start_time": "2019-03-01T03:44:40.898747Z"
    }
   },
   "outputs": [
    {
     "name": "stdout",
     "output_type": "stream",
     "text": [
      "/home/donfa1con/.virtualenvs/python2.7/bin/python\n",
      "/home/donfa1con/.virtualenvs/python2.7/lib/python2.7/site-packages/onvif\n",
      "/home/donfa1con/.virtualenvs/python2.7/wsdl\n"
     ]
    }
   ],
   "source": [
    "!which python\n",
    "!find /home/donfa1con/.virtualenvs/python2.7/ -name onvif -type d\n",
    "!find /home/donfa1con/.virtualenvs/python2.7/ -name wsdl -type d"
   ]
  },
  {
   "cell_type": "code",
   "execution_count": 4,
   "metadata": {
    "ExecuteTime": {
     "end_time": "2019-03-01T03:47:46.124426Z",
     "start_time": "2019-03-01T03:47:46.119457Z"
    }
   },
   "outputs": [],
   "source": [
    "PATH_TO_WSDL = '/home/donfa1con/.virtualenvs/python2.7/wsdl/'\n",
    "login = 'diziganshin'\n",
    "pwd = 'JtIfa2n6bgCrqmG9'\n",
    "url = '192.168.15.42'\n",
    "port = 80"
   ]
  },
  {
   "cell_type": "code",
   "execution_count": 5,
   "metadata": {
    "ExecuteTime": {
     "end_time": "2019-03-01T03:47:46.859738Z",
     "start_time": "2019-03-01T03:47:46.678388Z"
    },
    "code_folding": []
   },
   "outputs": [],
   "source": [
    "class Camera(object):\n",
    "    def __init__(self, url, port, login, pwd, PATH_TO_WSDL):\n",
    "        self.camera = ONVIFCamera(url, port, login, pwd, PATH_TO_WSDL)\n",
    "        self.ptz = self.camera.create_ptz_service()\n",
    "        self.media = self.camera.create_media_service()\n",
    "        self.imaging = self.camera.create_imaging_service()\n",
    "        self.media_profile_token = self.media.GetProfiles()[0]._token\n",
    "        self.imaging_video_source_token = self.media.GetVideoSources()[0]._token\n",
    "        self.media_profile_ptz_configuration_token = \\\n",
    "            self.media.GetProfiles()[0].PTZConfiguration._token\n",
    "        self.requests = {}\n",
    "        \n",
    "    def init(self):\n",
    "        self.init_ptz_request('GetStatus')\n",
    "        self.init_ptz_request('AbsoluteMove')\n",
    "        self.init_ptz_request('ContinuousMove')\n",
    "        self.init_ptz_config_request()\n",
    "        \n",
    "        self.init_imaging_request('Move')\n",
    "        self.init_imaging_request('SetImagingSettings')\n",
    "        self.init_imaging_request('GetMoveOptions')\n",
    "        \n",
    "        \n",
    "    def init_ptz_request(self, name):\n",
    "        self.requests[name] = self.ptz.create_type(name)\n",
    "        self.requests[name].ProfileToken = self.media_profile_token\n",
    "        \n",
    "    def init_imaging_request(self, name):\n",
    "        self.requests[name] = self.imaging.create_type(name)\n",
    "        self.requests[name].VideoSourceToken = self.imaging_video_source_token\n",
    "        \n",
    "    def init_ptz_config_request(self):\n",
    "        name = 'GetConfigurationOptions'\n",
    "        self.requests[name] = self.ptz.create_type(name)\n",
    "        self.requests[name].ConfigurationToken = \\\n",
    "            self.media_profile_ptz_configuration_token\n",
    "        \n",
    "    def get_position_status(self):\n",
    "        name = 'GetStatus'\n",
    "        status = self.ptz.GetStatus(self.requests[name])\n",
    "        x = status.Position.PanTilt._x\n",
    "        y = status.Position.PanTilt._y\n",
    "        zoom = status.Position.Zoom._x\n",
    "        return {'x': x, 'y': y, 'zoom': zoom}\n",
    "    \n",
    "    def get_range_continuous_move(self):\n",
    "        name = 'GetConfigurationOptions'\n",
    "        ptz_config = self.ptz.GetConfigurationOptions(self.requests[name])\n",
    "        spaces = ptz_config.Spaces\n",
    "        XMAX = spaces.ContinuousPanTiltVelocitySpace[0].XRange.Max\n",
    "        XMIN = spaces.ContinuousPanTiltVelocitySpace[0].XRange.Min\n",
    "        YMAX = spaces.ContinuousPanTiltVelocitySpace[0].YRange.Max\n",
    "        YMIN = spaces.ContinuousPanTiltVelocitySpace[0].YRange.Min\n",
    "        ZMAX = spaces.ContinuousZoomVelocitySpace[0].XRange.Max\n",
    "        ZMIN = spaces.ContinuousZoomVelocitySpace[0].XRange.Min\n",
    "        return {'x': [XMAX, XMIN], 'y': [YMAX, YMIN], 'zoom': [ZMAX, ZMIN]}\n",
    "    \n",
    "    def get_range_absolute_move(self):\n",
    "        name = 'GetConfigurationOptions'\n",
    "        ptz_config = self.ptz.GetConfigurationOptions(self.requests[name])\n",
    "        spaces = ptz_config.Spaces\n",
    "        XMAX = spaces.AbsolutePanTiltPositionSpace[0].XRange.Max\n",
    "        XMIN = spaces.AbsolutePanTiltPositionSpace[0].XRange.Min\n",
    "        YMAX = spaces.AbsolutePanTiltPositionSpace[0].YRange.Max\n",
    "        YMIN = spaces.AbsolutePanTiltPositionSpace[0].YRange.Min\n",
    "        ZMAX = spaces.AbsoluteZoomPositionSpace[0].XRange.Max\n",
    "        ZMIN = spaces.AbsoluteZoomPositionSpace[0].XRange.Min\n",
    "        return {'x': [XMAX, XMIN], 'y': [YMAX, YMIN], 'zoom': [ZMAX, ZMIN]}\n",
    "    \n",
    "    def get_focus_move_options(self):\n",
    "        name = 'GetMoveOptions'\n",
    "        focus_config = self.imaging.GetMoveOptions(self.requests[name])\n",
    "        return focus_config\n",
    "    \n",
    "    def set_absolute_position(self, x_position=0, y_position=0, zoom_position=0):\n",
    "        name = 'AbsoluteMove'\n",
    "        self.requests[name].Position.PanTilt._x = x_position\n",
    "        self.requests[name].Position.PanTilt._y = y_position\n",
    "        self.requests[name].Position.Zoom._x = zoom_position\n",
    "    \n",
    "    def make_absolute_move(self):\n",
    "        name = 'AbsoluteMove'\n",
    "        self.ptz.AbsoluteMove(self.requests[name])\n",
    "        self.ptz.Stop({'ProfileToken': self.requests[name].ProfileToken})\n",
    "        \n",
    "    def set_continuous_velocity(self, x_velocity=0, y_velocity=0, zoom_velocity=0):\n",
    "        name = 'ContinuousMove'\n",
    "        self.requests[name].Velocity.PanTilt._x = x_velocity\n",
    "        self.requests[name].Velocity.PanTilt._y = y_velocity\n",
    "        self.requests[name].Velocity.Zoom._x = zoom_velocity\n",
    "        \n",
    "    def make_continuous_move(self):\n",
    "        name = 'ContinuousMove'\n",
    "        self.ptz.ContinuousMove(self.requests[name])\n",
    "        self.ptz.Stop({'ProfileToken': self.requests[name].ProfileToken})\n",
    "        \n",
    "    def set_manual_focus(self):\n",
    "        name = \"SetImagingSettings\"\n",
    "        request = {'VideoSourceToken': self.imaging_video_source_token,\n",
    "                   'ImagingSettings': {'Focus': {'AutoFocusMode': 'MANUAL'}}\n",
    "                  }\n",
    "        self.imaging.SetImagingSettings(request)\n",
    "        \n",
    "    def reset_manual_focus(self):\n",
    "        name = \"SetImagingSettings\"\n",
    "        request = {'VideoSourceToken': self.imaging_video_source_token,\n",
    "                   'ImagingSettings': {'Focus': {'AutoFocusMode': 'AUTO'}}\n",
    "                  }\n",
    "        self.imaging.SetImagingSettings(request)\n",
    "        \n",
    "    def move_focus(self, speed=0):\n",
    "        name = \"Move\"\n",
    "        self.imaging.Move({'VideoSourceToken': self.imaging_video_source_token,\n",
    "            'Focus': {\n",
    "            'Continuous': {\n",
    "                'Speed': speed\n",
    "            }\n",
    "        }})\n",
    "        self.imaging.Stop({'VideoSourceToken': self.imaging_video_source_token})"
   ]
  },
  {
   "cell_type": "code",
   "execution_count": 6,
   "metadata": {
    "ExecuteTime": {
     "end_time": "2019-03-01T03:47:56.727149Z",
     "start_time": "2019-03-01T03:47:47.602054Z"
    }
   },
   "outputs": [],
   "source": [
    "camera = Camera(url, port, login, pwd, PATH_TO_WSDL)"
   ]
  },
  {
   "cell_type": "code",
   "execution_count": 7,
   "metadata": {
    "ExecuteTime": {
     "end_time": "2019-03-01T03:47:56.806016Z",
     "start_time": "2019-03-01T03:47:56.770033Z"
    }
   },
   "outputs": [],
   "source": [
    "camera.init()"
   ]
  },
  {
   "cell_type": "markdown",
   "metadata": {},
   "source": [
    "### 1. Absolute move: диагностика и перемещение "
   ]
  },
  {
   "cell_type": "code",
   "execution_count": 8,
   "metadata": {
    "ExecuteTime": {
     "end_time": "2019-03-01T03:48:00.226003Z",
     "start_time": "2019-03-01T03:47:56.842724Z"
    }
   },
   "outputs": [
    {
     "data": {
      "text/plain": [
       "{'x': [1.0, -1.0], 'y': [1.0, -1.0], 'zoom': [1.0, 0.0]}"
      ]
     },
     "execution_count": 8,
     "metadata": {},
     "output_type": "execute_result"
    }
   ],
   "source": [
    "camera.get_range_absolute_move()"
   ]
  },
  {
   "cell_type": "code",
   "execution_count": 9,
   "metadata": {
    "ExecuteTime": {
     "end_time": "2019-03-01T03:48:04.194889Z",
     "start_time": "2019-03-01T03:48:00.263569Z"
    }
   },
   "outputs": [
    {
     "data": {
      "text/plain": [
       "{'x': [1.0, -1.0], 'y': [1.0, -1.0], 'zoom': [1.0, -1.0]}"
      ]
     },
     "execution_count": 9,
     "metadata": {},
     "output_type": "execute_result"
    }
   ],
   "source": [
    "camera.get_range_continuous_move()"
   ]
  },
  {
   "cell_type": "code",
   "execution_count": 10,
   "metadata": {
    "ExecuteTime": {
     "end_time": "2019-03-01T03:48:06.205217Z",
     "start_time": "2019-03-01T03:48:04.244559Z"
    }
   },
   "outputs": [
    {
     "data": {
      "text/plain": [
       "{'x': 0.152444, 'y': -0.549111, 'zoom': 0.0}"
      ]
     },
     "execution_count": 10,
     "metadata": {},
     "output_type": "execute_result"
    }
   ],
   "source": [
    "camera.get_position_status()"
   ]
  },
  {
   "cell_type": "code",
   "execution_count": 11,
   "metadata": {
    "ExecuteTime": {
     "end_time": "2019-03-01T03:48:19.259124Z",
     "start_time": "2019-03-01T03:48:13.210223Z"
    }
   },
   "outputs": [],
   "source": [
    "camera.set_absolute_position(0., -0.7, 0)\n",
    "camera.make_absolute_move()"
   ]
  },
  {
   "cell_type": "code",
   "execution_count": 12,
   "metadata": {
    "ExecuteTime": {
     "end_time": "2019-03-01T03:48:28.447086Z",
     "start_time": "2019-03-01T03:48:24.441280Z"
    }
   },
   "outputs": [
    {
     "data": {
      "text/plain": [
       "{'x': 0.0, 'y': -0.7, 'zoom': 0.0}"
      ]
     },
     "execution_count": 12,
     "metadata": {},
     "output_type": "execute_result"
    }
   ],
   "source": [
    "camera.get_position_status()"
   ]
  },
  {
   "cell_type": "code",
   "execution_count": 13,
   "metadata": {
    "ExecuteTime": {
     "end_time": "2019-03-01T03:48:38.088914Z",
     "start_time": "2019-03-01T03:48:32.474425Z"
    }
   },
   "outputs": [],
   "source": [
    "camera.set_absolute_position(0.2, -0.4, 1)\n",
    "camera.make_absolute_move()"
   ]
  },
  {
   "cell_type": "code",
   "execution_count": 14,
   "metadata": {
    "ExecuteTime": {
     "end_time": "2019-03-01T03:48:48.166036Z",
     "start_time": "2019-03-01T03:48:45.108783Z"
    }
   },
   "outputs": [
    {
     "data": {
      "text/plain": [
       "{'x': 0.150333, 'y': -0.4, 'zoom': 1.0}"
      ]
     },
     "execution_count": 14,
     "metadata": {},
     "output_type": "execute_result"
    }
   ],
   "source": [
    "camera.get_position_status()"
   ]
  },
  {
   "cell_type": "code",
   "execution_count": 15,
   "metadata": {
    "ExecuteTime": {
     "end_time": "2019-03-01T03:48:52.271156Z",
     "start_time": "2019-03-01T03:48:52.265373Z"
    }
   },
   "outputs": [],
   "source": [
    "del camera"
   ]
  },
  {
   "cell_type": "markdown",
   "metadata": {},
   "source": [
    "### 2. Программа перемещения камеры в Continuous move"
   ]
  },
  {
   "cell_type": "code",
   "execution_count": 16,
   "metadata": {
    "ExecuteTime": {
     "end_time": "2019-03-01T03:48:57.323268Z",
     "start_time": "2019-03-01T03:48:57.224044Z"
    },
    "code_folding": []
   },
   "outputs": [],
   "source": [
    "class KeyboardCamera(Camera):\n",
    "    def __init__(self, delta, *args):\n",
    "        super(KeyboardCamera, self).__init__(*args)\n",
    "        self._delta = delta\n",
    "        self.delta = delta\n",
    "        \n",
    "    def left_up(self):\n",
    "        self.set_continuous_velocity(-self.delta, self.delta, 0)\n",
    "        self.make_continuous_move()\n",
    "        \n",
    "    def up(self):\n",
    "        self.set_continuous_velocity(0, self.delta, 0)\n",
    "        self.make_continuous_move()\n",
    "        \n",
    "    def right_up(self):\n",
    "        self.set_continuous_velocity(self.delta, self.delta, 0)\n",
    "        self.make_continuous_move()\n",
    "        \n",
    "    def left(self):\n",
    "        self.set_continuous_velocity(-self.delta, 0, 0)\n",
    "        self.make_continuous_move()\n",
    "        \n",
    "    def right(self):\n",
    "        self.set_continuous_velocity(self.delta, 0, 0)\n",
    "        self.make_continuous_move()\n",
    "        \n",
    "    def left_down(self):\n",
    "        self.set_continuous_velocity(-self.delta, -self.delta, 0)\n",
    "        self.make_continuous_move()\n",
    "        \n",
    "    def down(self):\n",
    "        self.set_continuous_velocity(0, -self.delta, 0)\n",
    "        self.make_continuous_move()\n",
    "        \n",
    "    def right_down(self):\n",
    "        self.set_continuous_velocity(self.delta, -self.delta, 0)\n",
    "        self.make_continuous_move()\n",
    "        \n",
    "    def zoom_plus(self):\n",
    "        self.set_continuous_velocity(0, 0, self.delta)\n",
    "        self.make_continuous_move()\n",
    "        \n",
    "    def zoom_plus(self):\n",
    "        self.set_continuous_velocity(0, 0, -self.delta)\n",
    "        self.make_continuous_move()\n",
    "        \n",
    "    def delta_plus(self):\n",
    "        self.delta = min(self.delta + self._delta, 1)\n",
    "    \n",
    "    def delta_minus(self):\n",
    "        self.delta = max(self.delta - self._delta, -1)\n",
    "            \n",
    "    def on_press_with_continous_move(self, key):\n",
    "        try:\n",
    "            if key.char == '+':\n",
    "                self.zoom_plus()\n",
    "            if key.char == '-':\n",
    "                self.zoom_minus()\n",
    "            if key.char == '/':\n",
    "                self.delta_plus()\n",
    "            if key.char == '*':\n",
    "                self.delta_minus()\n",
    "        except AttributeError:\n",
    "            if key == keyboard.Key.home:\n",
    "                self.left_up()\n",
    "            if key == keyboard.Key.up:\n",
    "                self.up()\n",
    "            if key == keyboard.Key.page_up:\n",
    "                self.right_up()\n",
    "            if key == keyboard.Key.left:\n",
    "                self.left()\n",
    "            if key == keyboard.Key.right:\n",
    "                self.right()\n",
    "            if key == keyboard.Key.end:\n",
    "                self.left_down()\n",
    "            if key == keyboard.Key.down:\n",
    "                self.down()\n",
    "            if key == keyboard.Key.page_down:\n",
    "                self.right_down()\n",
    "\n",
    "    \n",
    "    def on_press(self, key):\n",
    "        self.on_press_with_continous_move(key)\n",
    "        \n",
    "    def on_release(self, key):\n",
    "        # Stop listener\n",
    "        if key == keyboard.Key.esc:\n",
    "            return False\n",
    "\n",
    "    def listen_keyboard(self):\n",
    "        with keyboard.Listener(on_press=self.on_press,\n",
    "                               on_release=self.on_release) as listener:\n",
    "            listener.join()"
   ]
  },
  {
   "cell_type": "code",
   "execution_count": 17,
   "metadata": {
    "ExecuteTime": {
     "end_time": "2019-03-01T03:49:11.839354Z",
     "start_time": "2019-03-01T03:49:02.004545Z"
    }
   },
   "outputs": [],
   "source": [
    "delta = 5./20\n",
    "keyboard_camera = KeyboardCamera(delta, url, port, login, pwd, PATH_TO_WSDL)"
   ]
  },
  {
   "cell_type": "code",
   "execution_count": 18,
   "metadata": {
    "ExecuteTime": {
     "end_time": "2019-03-01T03:49:11.912881Z",
     "start_time": "2019-03-01T03:49:11.890001Z"
    }
   },
   "outputs": [],
   "source": [
    "keyboard_camera.init()"
   ]
  },
  {
   "cell_type": "code",
   "execution_count": 19,
   "metadata": {
    "ExecuteTime": {
     "end_time": "2019-03-01T03:51:18.405281Z",
     "start_time": "2019-03-01T03:50:19.455091Z"
    }
   },
   "outputs": [],
   "source": [
    "keyboard_camera.listen_keyboard()"
   ]
  },
  {
   "cell_type": "markdown",
   "metadata": {},
   "source": [
    "### 3. Программа ручного фокуса"
   ]
  },
  {
   "cell_type": "code",
   "execution_count": 21,
   "metadata": {
    "ExecuteTime": {
     "end_time": "2019-03-01T03:51:33.339654Z",
     "start_time": "2019-03-01T03:51:29.337320Z"
    }
   },
   "outputs": [
    {
     "data": {
      "text/plain": [
       "(MoveOptions20){\n",
       "   Continuous = \n",
       "      (ContinuousFocusOptions){\n",
       "         Speed = \n",
       "            (FloatRange){\n",
       "               Min = -7.0\n",
       "               Max = 7.0\n",
       "            }\n",
       "      }\n",
       " }"
      ]
     },
     "execution_count": 21,
     "metadata": {},
     "output_type": "execute_result"
    }
   ],
   "source": [
    "keyboard_camera.get_focus_move_options()"
   ]
  },
  {
   "cell_type": "code",
   "execution_count": 23,
   "metadata": {
    "ExecuteTime": {
     "end_time": "2019-03-01T03:52:41.539972Z",
     "start_time": "2019-03-01T03:52:26.469171Z"
    }
   },
   "outputs": [],
   "source": [
    "keyboard_camera.set_manual_focus()\n",
    "keyboard_camera.move_focus(speed=-7)\n",
    "keyboard_camera.move_focus(speed=7)\n",
    "keyboard_camera.reset_manual_focus()"
   ]
  },
  {
   "cell_type": "code",
   "execution_count": null,
   "metadata": {},
   "outputs": [],
   "source": []
  }
 ],
 "metadata": {
  "kernelspec": {
   "display_name": "Python 2",
   "language": "python",
   "name": "python2"
  },
  "language_info": {
   "codemirror_mode": {
    "name": "ipython",
    "version": 2
   },
   "file_extension": ".py",
   "mimetype": "text/x-python",
   "name": "python",
   "nbconvert_exporter": "python",
   "pygments_lexer": "ipython2",
   "version": "2.7.15rc1"
  },
  "varInspector": {
   "cols": {
    "lenName": 16,
    "lenType": 16,
    "lenVar": 40
   },
   "kernels_config": {
    "python": {
     "delete_cmd_postfix": "",
     "delete_cmd_prefix": "del ",
     "library": "var_list.py",
     "varRefreshCmd": "print(var_dic_list())"
    },
    "r": {
     "delete_cmd_postfix": ") ",
     "delete_cmd_prefix": "rm(",
     "library": "var_list.r",
     "varRefreshCmd": "cat(var_dic_list()) "
    }
   },
   "types_to_exclude": [
    "module",
    "function",
    "builtin_function_or_method",
    "instance",
    "_Feature"
   ],
   "window_display": false
  }
 },
 "nbformat": 4,
 "nbformat_minor": 2
}
